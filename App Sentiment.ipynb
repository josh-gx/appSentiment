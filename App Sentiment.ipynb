{
 "cells": [
  {
   "cell_type": "markdown",
   "metadata": {},
   "source": [
    "\n",
    "# Scoring App Reviews\n",
    "\n",
    "Text information can be broadly categorized into two main types: facts and opinions. \n",
    "\n",
    "* Facts are objective expressions about something. \n",
    "* Opinions are usually subjective expressions that describe people’s sentiments, appraisals, and feelings toward a subject or topic.\n",
    "\n",
    "Sentiment analysis can be modeled as a classification problem where two sub-problems must be resolved:\n",
    "\n",
    "* Classifying a sentence as subjective or objective, known as subjectivity classification.\n",
    "* Classifying a sentence as expressing a positive, negative or neutral opinion, known as polarity classification."
   ]
  },
  {
   "cell_type": "markdown",
   "metadata": {},
   "source": [
    "## Load Libraries"
   ]
  },
  {
   "cell_type": "code",
   "execution_count": 1,
   "metadata": {
    "collapsed": true
   },
   "outputs": [],
   "source": [
    "import pandas as pd\n",
    "from textblob import TextBlob #polarity and subjectivity classfication"
   ]
  },
  {
   "cell_type": "markdown",
   "metadata": {},
   "source": [
    "## iOS Sentiment"
   ]
  },
  {
   "cell_type": "code",
   "execution_count": 2,
   "metadata": {},
   "outputs": [
    {
     "data": {
      "text/html": [
       "<div>\n",
       "<style scoped>\n",
       "    .dataframe tbody tr th:only-of-type {\n",
       "        vertical-align: middle;\n",
       "    }\n",
       "\n",
       "    .dataframe tbody tr th {\n",
       "        vertical-align: top;\n",
       "    }\n",
       "\n",
       "    .dataframe thead th {\n",
       "        text-align: right;\n",
       "    }\n",
       "</style>\n",
       "<table border=\"1\" class=\"dataframe\">\n",
       "  <thead>\n",
       "    <tr style=\"text-align: right;\">\n",
       "      <th></th>\n",
       "      <th>Date</th>\n",
       "      <th>Title</th>\n",
       "      <th>Content</th>\n",
       "      <th>Name</th>\n",
       "      <th>Rating</th>\n",
       "      <th>Version</th>\n",
       "      <th>polarity</th>\n",
       "      <th>subjectivity</th>\n",
       "    </tr>\n",
       "  </thead>\n",
       "  <tbody>\n",
       "    <tr>\n",
       "      <th>0</th>\n",
       "      <td>4/7/2019</td>\n",
       "      <td>App is unusable</td>\n",
       "      <td>I love Pluralsight. But now- when I start it o...</td>\n",
       "      <td>Cavaunt</td>\n",
       "      <td>1</td>\n",
       "      <td>2.52</td>\n",
       "      <td>0.120000</td>\n",
       "      <td>0.320000</td>\n",
       "    </tr>\n",
       "    <tr>\n",
       "      <th>1</th>\n",
       "      <td>3/29/2019</td>\n",
       "      <td>Great app overall, but it keeps crashing</td>\n",
       "      <td>Today when I open the app it just repeatedly c...</td>\n",
       "      <td>Kawaiiblue</td>\n",
       "      <td>3</td>\n",
       "      <td>2.52</td>\n",
       "      <td>0.000000</td>\n",
       "      <td>0.450000</td>\n",
       "    </tr>\n",
       "    <tr>\n",
       "      <th>2</th>\n",
       "      <td>3/26/2019</td>\n",
       "      <td>Could Not Login with App</td>\n",
       "      <td>Logged in fine with Safari, but this app simpl...</td>\n",
       "      <td>Rirst Fate</td>\n",
       "      <td>1</td>\n",
       "      <td>2.52</td>\n",
       "      <td>0.323810</td>\n",
       "      <td>0.556349</td>\n",
       "    </tr>\n",
       "    <tr>\n",
       "      <th>3</th>\n",
       "      <td>3/17/2019</td>\n",
       "      <td>Hate the authorisation part</td>\n",
       "      <td>My company provides the subscription to this g...</td>\n",
       "      <td>Hahshd xbbbbshahaj</td>\n",
       "      <td>1</td>\n",
       "      <td>2.52</td>\n",
       "      <td>0.010938</td>\n",
       "      <td>0.293750</td>\n",
       "    </tr>\n",
       "    <tr>\n",
       "      <th>4</th>\n",
       "      <td>3/10/2019</td>\n",
       "      <td>Excellent Online Learning platform</td>\n",
       "      <td>Great content overall and instructors here are...</td>\n",
       "      <td>Dilip bs</td>\n",
       "      <td>5</td>\n",
       "      <td>2.52</td>\n",
       "      <td>0.333333</td>\n",
       "      <td>0.350000</td>\n",
       "    </tr>\n",
       "  </tbody>\n",
       "</table>\n",
       "</div>"
      ],
      "text/plain": [
       "        Date                                     Title  \\\n",
       "0   4/7/2019                           App is unusable   \n",
       "1  3/29/2019  Great app overall, but it keeps crashing   \n",
       "2  3/26/2019                  Could Not Login with App   \n",
       "3  3/17/2019               Hate the authorisation part   \n",
       "4  3/10/2019        Excellent Online Learning platform   \n",
       "\n",
       "                                             Content                Name  \\\n",
       "0  I love Pluralsight. But now- when I start it o...             Cavaunt   \n",
       "1  Today when I open the app it just repeatedly c...          Kawaiiblue   \n",
       "2  Logged in fine with Safari, but this app simpl...          Rirst Fate   \n",
       "3  My company provides the subscription to this g...  Hahshd xbbbbshahaj   \n",
       "4  Great content overall and instructors here are...            Dilip bs   \n",
       "\n",
       "   Rating Version  polarity  subjectivity  \n",
       "0       1    2.52  0.120000      0.320000  \n",
       "1       3    2.52  0.000000      0.450000  \n",
       "2       1    2.52  0.323810      0.556349  \n",
       "3       1    2.52  0.010938      0.293750  \n",
       "4       5    2.52  0.333333      0.350000  "
      ]
     },
     "execution_count": 2,
     "metadata": {},
     "output_type": "execute_result"
    }
   ],
   "source": [
    "ios = pd.read_csv('iOS PS All-time.csv') #app data\n",
    "\n",
    "# The x in the lambda function is a row (because I set axis=1)\n",
    "# Apply iterates the function accross the dataframe's rows\n",
    "ios['polarity'] = ios.apply(lambda x: TextBlob(x['Content']).sentiment.polarity, axis=1)\n",
    "ios['subjectivity'] = ios.apply(lambda x: TextBlob(x['Content']).sentiment.subjectivity, axis=1)\n",
    "\n",
    "ios.head()"
   ]
  },
  {
   "cell_type": "code",
   "execution_count": 3,
   "metadata": {
    "collapsed": true
   },
   "outputs": [],
   "source": [
    "# output to CSV for study\n",
    "ios.to_csv('iOS Sentiment.csv', encoding='utf-8', index=False)"
   ]
  },
  {
   "cell_type": "markdown",
   "metadata": {},
   "source": [
    "## Android Sentiment"
   ]
  },
  {
   "cell_type": "code",
   "execution_count": 6,
   "metadata": {},
   "outputs": [
    {
     "data": {
      "text/html": [
       "<div>\n",
       "<style scoped>\n",
       "    .dataframe tbody tr th:only-of-type {\n",
       "        vertical-align: middle;\n",
       "    }\n",
       "\n",
       "    .dataframe tbody tr th {\n",
       "        vertical-align: top;\n",
       "    }\n",
       "\n",
       "    .dataframe thead th {\n",
       "        text-align: right;\n",
       "    }\n",
       "</style>\n",
       "<table border=\"1\" class=\"dataframe\">\n",
       "  <thead>\n",
       "    <tr style=\"text-align: right;\">\n",
       "      <th></th>\n",
       "      <th>Date</th>\n",
       "      <th>Content</th>\n",
       "      <th>Rating</th>\n",
       "      <th>polarity</th>\n",
       "      <th>subjectivity</th>\n",
       "    </tr>\n",
       "  </thead>\n",
       "  <tbody>\n",
       "    <tr>\n",
       "      <th>0</th>\n",
       "      <td>4/8/2019</td>\n",
       "      <td>The app sometimes doesn't play on 4G, if you s...</td>\n",
       "      <td>1</td>\n",
       "      <td>-0.360417</td>\n",
       "      <td>0.633333</td>\n",
       "    </tr>\n",
       "    <tr>\n",
       "      <th>1</th>\n",
       "      <td>4/8/2019</td>\n",
       "      <td>Excellent app! Does nearly everything the web ...</td>\n",
       "      <td>5</td>\n",
       "      <td>0.633333</td>\n",
       "      <td>0.716667</td>\n",
       "    </tr>\n",
       "    <tr>\n",
       "      <th>2</th>\n",
       "      <td>4/8/2019</td>\n",
       "      <td>good application</td>\n",
       "      <td>5</td>\n",
       "      <td>0.700000</td>\n",
       "      <td>0.600000</td>\n",
       "    </tr>\n",
       "    <tr>\n",
       "      <th>3</th>\n",
       "      <td>4/6/2019</td>\n",
       "      <td>Excellent contents</td>\n",
       "      <td>5</td>\n",
       "      <td>1.000000</td>\n",
       "      <td>1.000000</td>\n",
       "    </tr>\n",
       "    <tr>\n",
       "      <th>4</th>\n",
       "      <td>4/5/2019</td>\n",
       "      <td>There is a critical bug in app. If you go to h...</td>\n",
       "      <td>3</td>\n",
       "      <td>-0.062500</td>\n",
       "      <td>0.658333</td>\n",
       "    </tr>\n",
       "  </tbody>\n",
       "</table>\n",
       "</div>"
      ],
      "text/plain": [
       "       Date                                            Content  Rating  \\\n",
       "0  4/8/2019  The app sometimes doesn't play on 4G, if you s...       1   \n",
       "1  4/8/2019  Excellent app! Does nearly everything the web ...       5   \n",
       "2  4/8/2019                                   good application       5   \n",
       "3  4/6/2019                                 Excellent contents       5   \n",
       "4  4/5/2019  There is a critical bug in app. If you go to h...       3   \n",
       "\n",
       "   polarity  subjectivity  \n",
       "0 -0.360417      0.633333  \n",
       "1  0.633333      0.716667  \n",
       "2  0.700000      0.600000  \n",
       "3  1.000000      1.000000  \n",
       "4 -0.062500      0.658333  "
      ]
     },
     "execution_count": 6,
     "metadata": {},
     "output_type": "execute_result"
    }
   ],
   "source": [
    "android = pd.read_csv('Android PS All-time.csv')\n",
    "\n",
    "# The x in the lambda function is a row (because I set axis=1)\n",
    "# Apply iterates the function accross the dataframe's rows\n",
    "android['polarity'] = android.apply(lambda x: TextBlob(x['Content']).sentiment.polarity, axis=1)\n",
    "android['subjectivity'] = android.apply(lambda x: TextBlob(x['Content']).sentiment.subjectivity, axis=1)\n",
    "\n",
    "android.head()"
   ]
  },
  {
   "cell_type": "code",
   "execution_count": 7,
   "metadata": {
    "collapsed": true
   },
   "outputs": [],
   "source": [
    "# output to CSV for study\n",
    "android.to_csv('Android Sentiment.csv', encoding='utf-8', index=False)"
   ]
  }
 ],
 "metadata": {
  "kernelspec": {
   "display_name": "Python 3",
   "language": "python",
   "name": "python3"
  },
  "language_info": {
   "codemirror_mode": {
    "name": "ipython",
    "version": 3
   },
   "file_extension": ".py",
   "mimetype": "text/x-python",
   "name": "python",
   "nbconvert_exporter": "python",
   "pygments_lexer": "ipython3",
   "version": "3.6.1"
  },
  "toc": {
   "base_numbering": 1,
   "nav_menu": {},
   "number_sections": true,
   "sideBar": true,
   "skip_h1_title": false,
   "title_cell": "Table of Contents",
   "title_sidebar": "Contents",
   "toc_cell": false,
   "toc_position": {},
   "toc_section_display": true,
   "toc_window_display": false
  }
 },
 "nbformat": 4,
 "nbformat_minor": 2
}
